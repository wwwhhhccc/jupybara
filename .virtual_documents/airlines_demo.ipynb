


import pandas as pd

df = pd.read_csv('US Airline Flight Routes and Fares.csv')
df.head()





import matplotlib.pyplot as plt
import seaborn as sns

# Display basic information about the DataFrame
df.info()

# Display descriptive statistics
df.describe()

# Check for missing values
missing_values = df.isnull().sum()
print('Missing values in each column:\n', missing_values)

# Visualize the distribution of fares
plt.figure(figsize=(10, 6))
sns.histplot(df['fare'], bins=50, kde=True)
plt.title('Distribution of Fares')
plt.xlabel('Fare')
plt.ylabel('Frequency')
plt.savefig('./images/fare_distribution.png')
plt.show()

# Visualize the number of flights per city
plt.figure(figsize=(10, 6))
df['city1'].value_counts().head(20).plot(kind='bar')
plt.title('Top 20 Cities by Number of Flights')
plt.xlabel('City')
plt.ylabel('Number of Flights')
plt.xticks(rotation=90)
plt.savefig('./images/top_cities_flights.png')
plt.show()

# Visualize the most common carriers
plt.figure(figsize=(10, 6))
df['carrier_lg'].value_counts().head(10).plot(kind='bar')
plt.title('Top 10 Carriers')
plt.xlabel('Carrier')
plt.ylabel('Number of Flights')
plt.xticks(rotation=90)
plt.savefig('./images/top_carriers.png')
plt.show()









